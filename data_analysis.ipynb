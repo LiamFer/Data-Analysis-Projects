{
 "cells": [
  {
   "cell_type": "code",
   "execution_count": 27,
   "metadata": {},
   "outputs": [],
   "source": [
    "import pandas as pd\n",
    "import numpy as np\n",
    "import matplotlib.pyplot as plt\n",
    "from matplotlib import style\n",
    "import os\n",
    "import shutil\n",
    "\n",
    "style.use(\"ggplot\")"
   ]
  },
  {
   "cell_type": "code",
   "execution_count": 29,
   "metadata": {},
   "outputs": [
    {
     "name": "stdout",
     "output_type": "stream",
     "text": [
      "Downloading 120-years-of-olympic-history-athletes-and-results.zip to c:\\Users\\Windows\\Desktop\\Stuff\\Coding\\Data-Cleaning\n",
      "\n"
     ]
    },
    {
     "name": "stderr",
     "output_type": "stream",
     "text": [
      "\n",
      "  0%|          | 0.00/5.43M [00:00<?, ?B/s]\n",
      " 18%|█▊        | 1.00M/5.43M [00:00<00:03, 1.34MB/s]\n",
      " 37%|███▋      | 2.00M/5.43M [00:00<00:01, 2.62MB/s]\n",
      " 92%|█████████▏| 5.00M/5.43M [00:01<00:00, 7.25MB/s]\n",
      "100%|██████████| 5.43M/5.43M [00:01<00:00, 5.38MB/s]\n"
     ]
    }
   ],
   "source": [
    "# Getting the Dataset using the Kaggle API\n",
    "!kaggle datasets download heesoo37/120-years-of-olympic-history-athletes-and-results\n",
    "\n",
    "# Unziping the Data\n",
    "shutil.unpack_archive(\"120-years-of-olympic-history-athletes-and-results.zip\",extract_dir='data')\n",
    "\n",
    "# Deleting the Zip File and the Cleaned Version\n",
    "os.remove(\"120-years-of-olympic-history-athletes-and-results.zip\")"
   ]
  },
  {
   "cell_type": "code",
   "execution_count": 30,
   "metadata": {},
   "outputs": [],
   "source": [
    "athletes = pd.read_csv('data/athlete_events.csv',index_col=\"ID\")\n",
    "noc = pd.read_csv('data/noc_regions.csv')"
   ]
  },
  {
   "cell_type": "code",
   "execution_count": 31,
   "metadata": {},
   "outputs": [],
   "source": [
    "# Merging to get the regions\n",
    "athletes = athletes.merge(noc,on='NOC')\n",
    "athletes.rename({\"region\":\"Country\"},axis=1,inplace=True)\n"
   ]
  },
  {
   "cell_type": "code",
   "execution_count": 38,
   "metadata": {},
   "outputs": [
    {
     "data": {
      "text/plain": [
       "134566"
      ]
     },
     "execution_count": 38,
     "metadata": {},
     "output_type": "execute_result"
    }
   ],
   "source": [
    "# Quantos atletas estão registrados no dataset?\n",
    "len(athletes.Name.unique())"
   ]
  },
  {
   "cell_type": "code",
   "execution_count": 46,
   "metadata": {},
   "outputs": [
    {
     "data": {
      "text/plain": [
       "25.55978262949427"
      ]
     },
     "execution_count": 46,
     "metadata": {},
     "output_type": "execute_result"
    }
   ],
   "source": [
    "# Qual é a média de idade dos atletas?\n",
    "athletes.Age.mean()"
   ]
  },
  {
   "cell_type": "code",
   "execution_count": 69,
   "metadata": {},
   "outputs": [
    {
     "data": {
      "text/html": [
       "<div>\n",
       "<style scoped>\n",
       "    .dataframe tbody tr th:only-of-type {\n",
       "        vertical-align: middle;\n",
       "    }\n",
       "\n",
       "    .dataframe tbody tr th {\n",
       "        vertical-align: top;\n",
       "    }\n",
       "\n",
       "    .dataframe thead th {\n",
       "        text-align: right;\n",
       "    }\n",
       "</style>\n",
       "<table border=\"1\" class=\"dataframe\">\n",
       "  <thead>\n",
       "    <tr style=\"text-align: right;\">\n",
       "      <th></th>\n",
       "      <th>Sport</th>\n",
       "    </tr>\n",
       "  </thead>\n",
       "  <tbody>\n",
       "    <tr>\n",
       "      <th>0</th>\n",
       "      <td>Basketball</td>\n",
       "    </tr>\n",
       "    <tr>\n",
       "      <th>1</th>\n",
       "      <td>Judo</td>\n",
       "    </tr>\n",
       "    <tr>\n",
       "      <th>2</th>\n",
       "      <td>Boxing</td>\n",
       "    </tr>\n",
       "    <tr>\n",
       "      <th>3</th>\n",
       "      <td>Wrestling</td>\n",
       "    </tr>\n",
       "    <tr>\n",
       "      <th>4</th>\n",
       "      <td>Swimming</td>\n",
       "    </tr>\n",
       "    <tr>\n",
       "      <th>...</th>\n",
       "      <td>...</td>\n",
       "    </tr>\n",
       "    <tr>\n",
       "      <th>61</th>\n",
       "      <td>Motorboating</td>\n",
       "    </tr>\n",
       "    <tr>\n",
       "      <th>62</th>\n",
       "      <td>Basque Pelota</td>\n",
       "    </tr>\n",
       "    <tr>\n",
       "      <th>63</th>\n",
       "      <td>Alpinism</td>\n",
       "    </tr>\n",
       "    <tr>\n",
       "      <th>64</th>\n",
       "      <td>Aeronautics</td>\n",
       "    </tr>\n",
       "    <tr>\n",
       "      <th>65</th>\n",
       "      <td>Racquets</td>\n",
       "    </tr>\n",
       "  </tbody>\n",
       "</table>\n",
       "<p>66 rows × 1 columns</p>\n",
       "</div>"
      ],
      "text/plain": [
       "            Sport\n",
       "0      Basketball\n",
       "1            Judo\n",
       "2          Boxing\n",
       "3       Wrestling\n",
       "4        Swimming\n",
       "..            ...\n",
       "61   Motorboating\n",
       "62  Basque Pelota\n",
       "63       Alpinism\n",
       "64    Aeronautics\n",
       "65       Racquets\n",
       "\n",
       "[66 rows x 1 columns]"
      ]
     },
     "execution_count": 69,
     "metadata": {},
     "output_type": "execute_result"
    }
   ],
   "source": [
    "# Quais são os esportes representados no dataset?\n",
    "pd.DataFrame(athletes.Sport.drop_duplicates().reset_index(drop=True))"
   ]
  },
  {
   "cell_type": "code",
   "execution_count": 74,
   "metadata": {},
   "outputs": [
    {
     "data": {
      "text/plain": [
       "Sex\n",
       "M    100866\n",
       "F     33755\n",
       "Name: count, dtype: int64"
      ]
     },
     "execution_count": 74,
     "metadata": {},
     "output_type": "execute_result"
    }
   ],
   "source": [
    "# Quantos atletas masculinos e femininos estão no dataset?\n",
    "athletes[['Name','Sex']].drop_duplicates().Sex.value_counts()"
   ]
  },
  {
   "cell_type": "code",
   "execution_count": 79,
   "metadata": {},
   "outputs": [
    {
     "data": {
      "text/plain": [
       "70.70952293948515"
      ]
     },
     "execution_count": 79,
     "metadata": {},
     "output_type": "execute_result"
    }
   ],
   "source": [
    "# Qual é a média de altura e peso dos atletas?\n",
    "athletes.Height.mean()\n",
    "athletes.Weight.mean()"
   ]
  },
  {
   "cell_type": "code",
   "execution_count": 82,
   "metadata": {},
   "outputs": [
    {
     "data": {
      "text/plain": [
       "Country\n",
       "USA    18853\n",
       "Name: count, dtype: int64"
      ]
     },
     "execution_count": 82,
     "metadata": {},
     "output_type": "execute_result"
    }
   ],
   "source": [
    "# Qual é o país (NOC) mais representado no dataset?\n",
    "athletes.Country.value_counts().head(1)"
   ]
  },
  {
   "cell_type": "code",
   "execution_count": 87,
   "metadata": {},
   "outputs": [
    {
     "data": {
      "text/plain": [
       "765"
      ]
     },
     "execution_count": 87,
     "metadata": {},
     "output_type": "execute_result"
    }
   ],
   "source": [
    "# Quantos eventos esportivos únicos estão no dataset?\n",
    "athletes.Event.drop_duplicates().shape[0]"
   ]
  },
  {
   "cell_type": "code",
   "execution_count": 108,
   "metadata": {},
   "outputs": [
    {
     "data": {
      "text/plain": [
       "1124"
      ]
     },
     "execution_count": 108,
     "metadata": {},
     "output_type": "execute_result"
    }
   ],
   "source": [
    "# Quantos atletas ganharam medalhas de ouro, prata e bronze?\n",
    "higher_level = athletes[['Name','Medal']].copy()\n",
    "higher_level.dropna(inplace=True)\n",
    "higher_level['Medal'] = higher_level['Medal'].map({\"Bronze\":1,\"Silver\":2,\"Gold\":3})\n",
    "top_athletes = pd.DataFrame(higher_level.groupby(\"Name\")[\"Medal\"].sum())\n",
    "len(top_athletes[top_athletes.Medal==6])"
   ]
  },
  {
   "cell_type": "code",
   "execution_count": 115,
   "metadata": {},
   "outputs": [
    {
     "data": {
      "text/html": [
       "<div>\n",
       "<style scoped>\n",
       "    .dataframe tbody tr th:only-of-type {\n",
       "        vertical-align: middle;\n",
       "    }\n",
       "\n",
       "    .dataframe tbody tr th {\n",
       "        vertical-align: top;\n",
       "    }\n",
       "\n",
       "    .dataframe thead th {\n",
       "        text-align: right;\n",
       "    }\n",
       "</style>\n",
       "<table border=\"1\" class=\"dataframe\">\n",
       "  <thead>\n",
       "    <tr style=\"text-align: right;\">\n",
       "      <th></th>\n",
       "      <th></th>\n",
       "      <th>count</th>\n",
       "    </tr>\n",
       "    <tr>\n",
       "      <th>Medal</th>\n",
       "      <th>Sport</th>\n",
       "      <th></th>\n",
       "    </tr>\n",
       "  </thead>\n",
       "  <tbody>\n",
       "    <tr>\n",
       "      <th rowspan=\"5\" valign=\"top\">Bronze</th>\n",
       "      <th>Athletics</th>\n",
       "      <td>1296</td>\n",
       "    </tr>\n",
       "    <tr>\n",
       "      <th>Rowing</th>\n",
       "      <td>990</td>\n",
       "    </tr>\n",
       "    <tr>\n",
       "      <th>Swimming</th>\n",
       "      <td>956</td>\n",
       "    </tr>\n",
       "    <tr>\n",
       "      <th>Gymnastics</th>\n",
       "      <td>719</td>\n",
       "    </tr>\n",
       "    <tr>\n",
       "      <th>Fencing</th>\n",
       "      <td>566</td>\n",
       "    </tr>\n",
       "    <tr>\n",
       "      <th>...</th>\n",
       "      <th>...</th>\n",
       "      <td>...</td>\n",
       "    </tr>\n",
       "    <tr>\n",
       "      <th rowspan=\"5\" valign=\"top\">Silver</th>\n",
       "      <th>Military Ski Patrol</th>\n",
       "      <td>4</td>\n",
       "    </tr>\n",
       "    <tr>\n",
       "      <th>Racquets</th>\n",
       "      <td>3</td>\n",
       "    </tr>\n",
       "    <tr>\n",
       "      <th>Croquet</th>\n",
       "      <td>2</td>\n",
       "    </tr>\n",
       "    <tr>\n",
       "      <th>Roque</th>\n",
       "      <td>1</td>\n",
       "    </tr>\n",
       "    <tr>\n",
       "      <th>Jeu De Paume</th>\n",
       "      <td>1</td>\n",
       "    </tr>\n",
       "  </tbody>\n",
       "</table>\n",
       "<p>189 rows × 1 columns</p>\n",
       "</div>"
      ],
      "text/plain": [
       "                            count\n",
       "Medal  Sport                     \n",
       "Bronze Athletics             1296\n",
       "       Rowing                 990\n",
       "       Swimming               956\n",
       "       Gymnastics             719\n",
       "       Fencing                566\n",
       "...                           ...\n",
       "Silver Military Ski Patrol      4\n",
       "       Racquets                 3\n",
       "       Croquet                  2\n",
       "       Roque                    1\n",
       "       Jeu De Paume             1\n",
       "\n",
       "[189 rows x 1 columns]"
      ]
     },
     "execution_count": 115,
     "metadata": {},
     "output_type": "execute_result"
    }
   ],
   "source": [
    "# Qual é a distribuição de medalhas por esporte?\n",
    "pd.DataFrame(athletes.groupby(\"Medal\")['Sport'].value_counts())"
   ]
  },
  {
   "cell_type": "code",
   "execution_count": 119,
   "metadata": {},
   "outputs": [
    {
     "data": {
      "text/plain": [
       "City\n",
       "London                    22389\n",
       "Athina                    15534\n",
       "Sydney                    13798\n",
       "Atlanta                   13745\n",
       "Rio de Janeiro            13656\n",
       "Beijing                   13566\n",
       "Barcelona                 12940\n",
       "Los Angeles               12409\n",
       "Seoul                     12010\n",
       "Munich                    10292\n",
       "Montreal                   8637\n",
       "Mexico City                8582\n",
       "Helsinki                   8263\n",
       "Roma                       8114\n",
       "Tokyo                      7702\n",
       "Moskva                     7191\n",
       "Paris                      7169\n",
       "Berlin                     6506\n",
       "Amsterdam                  4992\n",
       "Sochi                      4891\n",
       "Melbourne                  4777\n",
       "Vancouver                  4402\n",
       "Torino                     4382\n",
       "Stockholm                  4338\n",
       "Antwerpen                  4292\n",
       "Salt Lake City             4109\n",
       "Innsbruck                  3639\n",
       "Nagano                     3605\n",
       "Albertville                3436\n",
       "Lillehammer                3160\n",
       "Calgary                    2639\n",
       "Sarajevo                   2134\n",
       "Lake Placid                2098\n",
       "Grenoble                   1891\n",
       "Sankt Moritz               1657\n",
       "Sapporo                    1655\n",
       "Cortina d'Ampezzo          1307\n",
       "St. Louis                  1301\n",
       "Squaw Valley               1116\n",
       "Oslo                       1088\n",
       "Garmisch-Partenkirchen      895\n",
       "Chamonix                    460\n",
       "Name: count, dtype: int64"
      ]
     },
     "execution_count": 119,
     "metadata": {},
     "output_type": "execute_result"
    }
   ],
   "source": [
    "# Qual é a cidade que sediou os Jogos Olímpicos com mais atletas no dataset?\n",
    "athletes.City.value_counts()"
   ]
  },
  {
   "cell_type": "code",
   "execution_count": 126,
   "metadata": {},
   "outputs": [
    {
     "data": {
      "text/plain": [
       "Name\n",
       "Michael Fred Phelps, II               28\n",
       "Larysa Semenivna Latynina (Diriy-)    18\n",
       "Nikolay Yefimovich Andrianov          15\n",
       "Takashi Ono                           13\n",
       "Ole Einar Bjrndalen                   13\n",
       "Name: count, dtype: int64"
      ]
     },
     "execution_count": 126,
     "metadata": {},
     "output_type": "execute_result"
    }
   ],
   "source": [
    "# Quais são os atletas que conquistaram mais medalhas?\n",
    "medalists = athletes[['Name','Medal']].dropna()\n",
    "medalists['Name'].value_counts().head(5)"
   ]
  },
  {
   "cell_type": "code",
   "execution_count": 128,
   "metadata": {},
   "outputs": [
    {
     "data": {
      "text/plain": [
       "Sport\n",
       "Aeronautics         26.000000\n",
       "Alpine Skiing       23.205462\n",
       "Alpinism            38.812500\n",
       "Archery             27.935226\n",
       "Art Competitions    45.901009\n",
       "                      ...    \n",
       "Tug-Of-War          29.309524\n",
       "Volleyball          25.183800\n",
       "Water Polo          25.668499\n",
       "Weightlifting       25.502687\n",
       "Wrestling           25.798289\n",
       "Name: Age, Length: 66, dtype: float64"
      ]
     },
     "execution_count": 128,
     "metadata": {},
     "output_type": "execute_result"
    }
   ],
   "source": [
    "# Qual é a média de idade dos atletas por esporte?\n",
    "athletes.groupby(\"Sport\")['Age'].mean()"
   ]
  },
  {
   "cell_type": "code",
   "execution_count": 131,
   "metadata": {},
   "outputs": [
    {
     "data": {
      "text/plain": [
       "Event\n",
       "Football Men's Football        5733\n",
       "Ice Hockey Men's Ice Hockey    4762\n",
       "Hockey Men's Hockey            3941\n",
       "Water Polo Men's Water Polo    3348\n",
       "Basketball Men's Basketball    3270\n",
       "Name: count, dtype: int64"
      ]
     },
     "execution_count": 131,
     "metadata": {},
     "output_type": "execute_result"
    }
   ],
   "source": [
    "# Quais são os eventos mais populares em termos de participação de atletas?\n",
    "athletes.Event.value_counts().head(5)"
   ]
  },
  {
   "cell_type": "code",
   "execution_count": 136,
   "metadata": {},
   "outputs": [
    {
     "data": {
      "text/plain": [
       "([<matplotlib.patches.Wedge at 0x21028607f10>,\n",
       "  <matplotlib.patches.Wedge at 0x21028618ed0>],\n",
       " [Text(-0.9299491396823002, 0.5875326353524116, 'Summer'),\n",
       "  Text(0.9299491121779112, -0.5875326788864725, 'Winter')],\n",
       " [Text(-0.5072449852812546, 0.3204723465558608, '82.06%'),\n",
       "  Text(0.5072449702788606, -0.3204723703017122, '17.94%')])"
      ]
     },
     "execution_count": 136,
     "metadata": {},
     "output_type": "execute_result"
    },
    {
     "data": {
      "image/png": "[encoded data removed]",
      "text/plain": [
       "<Figure size 640x480 with 1 Axes>"
      ]
     },
     "metadata": {},
     "output_type": "display_data"
    }
   ],
   "source": [
    "# Qual é a temporada (verão ou inverno) mais comum nos dados?\n",
    "plt.pie(athletes['Season'].value_counts(),labels=athletes['Season'].value_counts().index,autopct=\"%.2f%%\")"
   ]
  }
 ],
 "metadata": {
  "kernelspec": {
   "display_name": "Python 3",
   "language": "python",
   "name": "python3"
  },
  "language_info": {
   "codemirror_mode": {
    "name": "ipython",
    "version": 3
   },
   "file_extension": ".py",
   "mimetype": "text/x-python",
   "name": "python",
   "nbconvert_exporter": "python",
   "pygments_lexer": "ipython3",
   "version": "3.11.0"
  }
 },
 "nbformat": 4,
 "nbformat_minor": 2
}
