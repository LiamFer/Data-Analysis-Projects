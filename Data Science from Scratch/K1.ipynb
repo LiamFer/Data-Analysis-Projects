{
 "cells": [
  {
   "cell_type": "code",
   "execution_count": 2,
   "metadata": {},
   "outputs": [],
   "source": [
    "users = [\n",
    "    {\"id\": 0, \"name\": \"Hero\"},\n",
    "    {\"id\": 1, \"name\": \"Alice\"},\n",
    "    {\"id\": 2, \"name\": \"Bob\"},\n",
    "    {\"id\": 3, \"name\": \"Charlie\"},\n",
    "    {\"id\": 4, \"name\": \"David\"},\n",
    "    {\"id\": 5, \"name\": \"Emma\"},\n",
    "    {\"id\": 6, \"name\": \"Frank\"},\n",
    "    {\"id\": 7, \"name\": \"Grace\"},\n",
    "    {\"id\": 8, \"name\": \"Hugo\"},\n",
    "    {\"id\": 9, \"name\": \"Ivy\"}\n",
    "]\n",
    "\n",
    "friendship_pairs = [\n",
    "    (0, 1),\n",
    "    (0, 2),\n",
    "    (1, 3),\n",
    "    (2, 4),\n",
    "    (3, 5),\n",
    "    (4, 6),\n",
    "    (5, 7),\n",
    "    (6, 8),\n",
    "    (7, 9),\n",
    "    (8, 9),\n",
    "    (1, 4),\n",
    "    (3, 7)\n",
    "]"
   ]
  },
  {
   "cell_type": "code",
   "execution_count": 7,
   "metadata": {},
   "outputs": [],
   "source": [
    "amigos = {user['id']: [] for user in users}"
   ]
  },
  {
   "cell_type": "code",
   "execution_count": 9,
   "metadata": {},
   "outputs": [],
   "source": [
    "for person, friend in friendship_pairs:\n",
    "    amigos[person].append(friend)\n",
    "    amigos[friend].append(person)"
   ]
  },
  {
   "cell_type": "code",
   "execution_count": 10,
   "metadata": {},
   "outputs": [
    {
     "data": {
      "text/plain": [
       "{0: [1, 2],\n",
       " 1: [0, 3, 4],\n",
       " 2: [0, 4],\n",
       " 3: [1, 5, 7],\n",
       " 4: [2, 6, 1],\n",
       " 5: [3, 7],\n",
       " 6: [4, 8],\n",
       " 7: [5, 9, 3],\n",
       " 8: [6, 9],\n",
       " 9: [7, 8]}"
      ]
     },
     "execution_count": 10,
     "metadata": {},
     "output_type": "execute_result"
    }
   ],
   "source": [
    "amigos"
   ]
  }
 ],
 "metadata": {
  "kernelspec": {
   "display_name": "Python 3",
   "language": "python",
   "name": "python3"
  },
  "language_info": {
   "codemirror_mode": {
    "name": "ipython",
    "version": 3
   },
   "file_extension": ".py",
   "mimetype": "text/x-python",
   "name": "python",
   "nbconvert_exporter": "python",
   "pygments_lexer": "ipython3",
   "version": "3.11.0"
  }
 },
 "nbformat": 4,
 "nbformat_minor": 2
}
