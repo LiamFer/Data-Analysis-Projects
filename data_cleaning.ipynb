{
 "cells": [
  {
   "cell_type": "code",
   "execution_count": null,
   "metadata": {},
   "outputs": [],
   "source": [
    "import pandas as pd\n",
    "import os\n",
    "import shutil\n"
   ]
  },
  {
   "cell_type": "code",
   "execution_count": null,
   "metadata": {},
   "outputs": [],
   "source": [
    "# Getting the Dataset using the Kaggle API\n",
    "!kaggle datasets download rashikrahmanpritom/data-science-job-posting-on-glassdoor\n",
    "\n",
    "# Unziping the Data\n",
    "shutil.unpack_archive(\"data-science-job-posting-on-glassdoor.zip\",extract_dir='data')\n",
    "\n",
    "# Deleting the Zip File and the Cleaned Version\n",
    "os.remove(\"data-science-job-posting-on-glassdoor.zip\")\n",
    "os.remove(\"data/Cleaned_DS_Jobs.csv\")\n",
    "\n",
    "# Renaming our dataset\n",
    "os.rename(\"data/Uncleaned_DS_jobs.csv\", \"data/Data_Science_Jobs.csv\")"
   ]
  },
  {
   "cell_type": "code",
   "execution_count": null,
   "metadata": {},
   "outputs": [],
   "source": []
  }
 ],
 "metadata": {
  "kernelspec": {
   "display_name": "Python 3",
   "language": "python",
   "name": "python3"
  },
  "language_info": {
   "codemirror_mode": {
    "name": "ipython",
    "version": 3
   },
   "file_extension": ".py",
   "mimetype": "text/x-python",
   "name": "python",
   "nbconvert_exporter": "python",
   "pygments_lexer": "ipython3",
   "version": "3.11.0"
  }
 },
 "nbformat": 4,
 "nbformat_minor": 2
}
