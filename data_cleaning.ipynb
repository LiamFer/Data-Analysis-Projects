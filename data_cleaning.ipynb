{
 "cells": [
  {
   "cell_type": "code",
   "execution_count": null,
   "metadata": {},
   "outputs": [],
   "source": [
    "import pandas as pd\n",
    "import numpy as np\n",
    "from datetime import datetime\n",
    "import statistics\n",
    "import os\n",
    "import shutil"
   ]
  },
  {
   "cell_type": "code",
   "execution_count": null,
   "metadata": {},
   "outputs": [],
   "source": [
    "# Getting the Dataset using the Kaggle API\n",
    "!kaggle datasets download rashikrahmanpritom/data-science-job-posting-on-glassdoor\n",
    "\n",
    "# Unziping the Data\n",
    "shutil.unpack_archive(\"data-science-job-posting-on-glassdoor.zip\",extract_dir='data')\n",
    "\n",
    "# Deleting the Zip File and the Cleaned Version\n",
    "os.remove(\"data-science-job-posting-on-glassdoor.zip\")\n",
    "os.remove(\"data/Cleaned_DS_Jobs.csv\")\n",
    "\n",
    "# Renaming our dataset\n",
    "os.rename(\"data/Uncleaned_DS_jobs.csv\", \"data/Data_Science_Jobs.csv\")"
   ]
  },
  {
   "cell_type": "code",
   "execution_count": null,
   "metadata": {},
   "outputs": [],
   "source": [
    "# Starting the dataframe and correcting the index\n",
    "df = pd.read_csv(\"data/Data_Science_Jobs.csv\",index_col='index')"
   ]
  },
  {
   "cell_type": "code",
   "execution_count": null,
   "metadata": {},
   "outputs": [],
   "source": [
    "# Getting the Salary Estimate\n",
    "def get_salary_estimate(x):\n",
    "    estimate = ''\n",
    "    for char in x:\n",
    "        if char.isdigit() or char == '-':\n",
    "            estimate += char \n",
    "    return estimate\n",
    "\n",
    "df['Salary Estimate'] = df['Salary Estimate'].apply(get_salary_estimate)"
   ]
  },
  {
   "cell_type": "code",
   "execution_count": null,
   "metadata": {},
   "outputs": [],
   "source": [
    "# Cleaning the Company Name\n",
    "def get_company_name(x):\n",
    "    if str(\"\\n\") in x:\n",
    "        array = x.split(str(\"\\n\"))\n",
    "        return array[0].strip()\n",
    "    else:\n",
    "        return x\n",
    "    \n",
    "df['Company Name'] = df['Company Name'].apply(get_company_name)"
   ]
  },
  {
   "cell_type": "code",
   "execution_count": null,
   "metadata": {},
   "outputs": [],
   "source": [
    "# Cleaning the Company Size\n",
    "def get_size(x):\n",
    "    size = ''\n",
    "    x = x.replace(' to ','-')\n",
    "    for char in x:\n",
    "        if char.isdigit() or char == '-':\n",
    "            size += char \n",
    "    return size\n",
    "    \n",
    "df['Size'] = df['Size'].apply(get_size)"
   ]
  },
  {
   "cell_type": "code",
   "execution_count": null,
   "metadata": {},
   "outputs": [],
   "source": [
    "# Getting the Minimum Salary\n",
    "df['Min Salary'] = df['Salary Estimate'].apply(lambda x: int(min(x.split('-'))))\n",
    "\n",
    "# Getting the Maximum Salary\n",
    "df['Max Salary'] = df['Salary Estimate'].apply(lambda x: int(max(x.split('-'))))\n",
    "\n",
    "# Getting the Average Salary\n",
    "df['Avg Salary'] = df['Salary Estimate'].apply(lambda x: statistics.mean(list(map(int,x.split('-')))))"
   ]
  },
  {
   "cell_type": "code",
   "execution_count": null,
   "metadata": {},
   "outputs": [],
   "source": [
    "# Creating the Job State Column\n",
    "def get_job_state(x):\n",
    "    # States that does not have the acronym\n",
    "    standardize_states = {\"Utah\":\"UT\",\n",
    "                      \"United States\":\"US\",\n",
    "                      \"Remote\":\"RMT\",\n",
    "                      \"New Jersey\":\"NJ\",\n",
    "                      \"Texas\":\"TX\",\n",
    "                      \"California\":\"CA\"}\n",
    "    \n",
    "    try:\n",
    "        state = x.split(\",\")[1].strip()\n",
    "    except:\n",
    "        for state_key,acronym in standardize_states.items():\n",
    "            if x == state_key:\n",
    "                state = acronym\n",
    "    return state\n",
    "\n",
    "find_different = df['Location'].apply(get_job_state)\n",
    "df['Job State'] = df['Location'].apply(get_job_state)"
   ]
  },
  {
   "cell_type": "code",
   "execution_count": null,
   "metadata": {},
   "outputs": [],
   "source": [
    "# Creating the Same State Boolean Column\n",
    "def get_headquarters_state(x):\n",
    "    try:\n",
    "        state = x.split(\",\")[1].strip()\n",
    "    except:\n",
    "        state = x\n",
    "    return state\n",
    "\n",
    "headquarters_states = df['Headquarters'].apply(get_headquarters_state)\n",
    "df['Same State'] = df['Job State'] == headquarters_states"
   ]
  },
  {
   "cell_type": "code",
   "execution_count": null,
   "metadata": {},
   "outputs": [],
   "source": [
    "# Including the most appeared skills in boolean columns form using Lambda\n",
    "df['Python - Required'] = df['Job Description'].apply(lambda x: True if \"python\" in x.lower() else False)\n",
    "df['Excel - Required'] = df['Job Description'].apply(lambda x: True if \"excel\" in x.lower() else False)\n",
    "df['Hadoop - Required'] = df['Job Description'].apply(lambda x: True if \"hadoop\" in x.lower() else False)\n",
    "df['Spark - Required'] = df['Job Description'].apply(lambda x: True if \"spark\" in x.lower() else False)\n",
    "df['AWS - Required'] = df['Job Description'].apply(lambda x: True if \"aws\" in x.lower() else False)\n",
    "df['Tableau - Required'] = df['Job Description'].apply(lambda x: True if \"tableau\" in x.lower() else False)\n",
    "df['Big Data - Required'] = df['Job Description'].apply(lambda x: True if \"big data\" in x.lower() else False)\n"
   ]
  },
  {
   "cell_type": "code",
   "execution_count": null,
   "metadata": {},
   "outputs": [],
   "source": [
    "# Getting a simple version of the Job\n",
    "def get_simpler_job(x):\n",
    "    x = x.lower()\n",
    "    if \"data scientist\" in x:\n",
    "        simpler_job = \"Data Scientist\"\n",
    "    elif \"machine learning engineer\" in x:\n",
    "        simpler_job = \"M.L.E\"\n",
    "    elif \"analyst\" in x:\n",
    "        simpler_job = \"Analyst\"\n",
    "    elif \"data engineer\" in x:\n",
    "        simpler_job = \"Data Engineer\"\n",
    "    elif \"computer scientist\" in x:\n",
    "        simpler_job = \"Computer Scientist\"\n",
    "    else:\n",
    "        simpler_job = np.nan\n",
    "    return simpler_job\n",
    "    \n",
    "df['Simpler Job'] = df['Job Title'].apply(get_simpler_job)"
   ]
  },
  {
   "cell_type": "code",
   "execution_count": null,
   "metadata": {},
   "outputs": [],
   "source": [
    "# Ending the project getting the desired level of the job\n",
    "def get_job_level(x):\n",
    "    x = x.lower()\n",
    "    if \"jr\" in x:\n",
    "        level = \"Junior\"\n",
    "    elif any(k in x for k in [\"principal\",\"senior\",'experienced','sr']):\n",
    "        level = \"Senior\"\n",
    "    else:\n",
    "        level = np.nan\n",
    "    return level\n",
    "\n",
    "df['Desired Level'] = df['Job Title'].apply(get_job_level)"
   ]
  },
  {
   "cell_type": "code",
   "execution_count": null,
   "metadata": {},
   "outputs": [],
   "source": [
    "# Calculating the company age\n",
    "df['Company Age'] = df['Founded'].apply(lambda x: datetime.now().year-x if x>-1 else x)\n"
   ]
  },
  {
   "cell_type": "code",
   "execution_count": null,
   "metadata": {},
   "outputs": [],
   "source": [
    "# It looks better than before :/\n",
    "df"
   ]
  }
 ],
 "metadata": {
  "kernelspec": {
   "display_name": "Python 3",
   "language": "python",
   "name": "python3"
  },
  "language_info": {
   "codemirror_mode": {
    "name": "ipython",
    "version": 3
   },
   "file_extension": ".py",
   "mimetype": "text/x-python",
   "name": "python",
   "nbconvert_exporter": "python",
   "pygments_lexer": "ipython3",
   "version": "3.11.0"
  }
 },
 "nbformat": 4,
 "nbformat_minor": 2
}
