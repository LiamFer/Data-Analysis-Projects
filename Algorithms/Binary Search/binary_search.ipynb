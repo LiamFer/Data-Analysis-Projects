{
 "cells": [
  {
   "cell_type": "code",
   "execution_count": 27,
   "metadata": {},
   "outputs": [],
   "source": [
    "def binary_search(list,item):\n",
    "    baixo = 0\n",
    "    alto = len(list)-1\n",
    "    while baixo <= alto:\n",
    "        # Pego a metade do array\n",
    "        meio = int((baixo+alto)/2)\n",
    "        # Pego o valor da metade do array\n",
    "        chute = list[meio]\n",
    "        if chute == item:\n",
    "            return meio\n",
    "        # Se o chute for maior que o item eu diminuo o alto\n",
    "        if chute > item:\n",
    "            alto = meio -1\n",
    "        # Se o chute for menor que o item eu aumento o baixo\n",
    "        else:\n",
    "            baixo = meio + 1\n",
    "    return None        "
   ]
  },
  {
   "cell_type": "code",
   "execution_count": 28,
   "metadata": {},
   "outputs": [],
   "source": [
    "binary_search(list(range(1,9000)),1000123)"
   ]
  },
  {
   "cell_type": "code",
   "execution_count": 4,
   "metadata": {},
   "outputs": [
    {
     "data": {
      "text/plain": [
       "899"
      ]
     },
     "execution_count": 4,
     "metadata": {},
     "output_type": "execute_result"
    }
   ],
   "source": [
    "# Tentando fixar na cabeça como funciona:\n",
    "\n",
    "array = list(range(0,900))\n",
    "\n",
    "def ad(array,chosen):\n",
    "    low = 0\n",
    "    high = len(array) - 1\n",
    "\n",
    "    while low <= high:\n",
    "        half = int((low+high)/2)\n",
    "        guess = array[half]\n",
    "        if guess == chosen:\n",
    "            return half\n",
    "        elif guess > chosen:\n",
    "            high = half -1\n",
    "        else:\n",
    "            low = half + 1\n",
    "    return None\n",
    "\n",
    "ad(array,899)\n",
    "        "
   ]
  }
 ],
 "metadata": {
  "kernelspec": {
   "display_name": "Python 3",
   "language": "python",
   "name": "python3"
  },
  "language_info": {
   "codemirror_mode": {
    "name": "ipython",
    "version": 3
   },
   "file_extension": ".py",
   "mimetype": "text/x-python",
   "name": "python",
   "nbconvert_exporter": "python",
   "pygments_lexer": "ipython3",
   "version": "3.11.0"
  }
 },
 "nbformat": 4,
 "nbformat_minor": 2
}
