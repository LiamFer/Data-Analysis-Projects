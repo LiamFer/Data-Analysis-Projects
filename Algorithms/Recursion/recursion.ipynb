{
 "cells": [
  {
   "cell_type": "code",
   "execution_count": 204,
   "metadata": {},
   "outputs": [],
   "source": [
    "arr = [2,1,453,56,4,6,90]\n",
    "def sumy(array):\n",
    "    # Caso base pra voltar o slingshot\n",
    "    if len(array) == 0:\n",
    "        return 0\n",
    "    # Caso recursivo\n",
    "    else:\n",
    "        soma = array.pop() + sumy(array)\n",
    "        return soma\n",
    "        \n",
    "\n",
    "    "
   ]
  },
  {
   "cell_type": "code",
   "execution_count": 165,
   "metadata": {},
   "outputs": [
    {
     "data": {
      "text/plain": [
       "12"
      ]
     },
     "execution_count": 165,
     "metadata": {},
     "output_type": "execute_result"
    }
   ],
   "source": [
    "sumy(arr[:])\n"
   ]
  },
  {
   "cell_type": "code",
   "execution_count": 166,
   "metadata": {},
   "outputs": [
    {
     "data": {
      "text/plain": [
       "3"
      ]
     },
     "execution_count": 166,
     "metadata": {},
     "output_type": "execute_result"
    }
   ],
   "source": [
    "def counting(array):\n",
    "    if len(array) == 0:\n",
    "        return 0\n",
    "    array.pop()\n",
    "    items = 1 + counting(array)\n",
    "    return items\n",
    "\n",
    "counting(arr[:])"
   ]
  },
  {
   "cell_type": "code",
   "execution_count": 207,
   "metadata": {},
   "outputs": [
    {
     "data": {
      "text/plain": [
       "90"
      ]
     },
     "execution_count": 207,
     "metadata": {},
     "output_type": "execute_result"
    }
   ],
   "source": [
    "def higher(array):\n",
    "    if len(array) == 0:\n",
    "        return 0\n",
    "    else:\n",
    "        actual = array.pop()\n",
    "        return higher(array) if actual < higher(array)  else actual\n",
    "        \n",
    "higher(arr[:])"
   ]
  }
 ],
 "metadata": {
  "kernelspec": {
   "display_name": "Python 3",
   "language": "python",
   "name": "python3"
  },
  "language_info": {
   "codemirror_mode": {
    "name": "ipython",
    "version": 3
   },
   "file_extension": ".py",
   "mimetype": "text/x-python",
   "name": "python",
   "nbconvert_exporter": "python",
   "pygments_lexer": "ipython3",
   "version": "3.11.0"
  }
 },
 "nbformat": 4,
 "nbformat_minor": 2
}
