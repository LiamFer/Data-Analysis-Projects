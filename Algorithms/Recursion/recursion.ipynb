{
 "cells": [
  {
   "cell_type": "code",
   "execution_count": 1,
   "metadata": {},
   "outputs": [],
   "source": [
    "arr = [2,1,453,56,4,6,90]\n",
    "\n",
    "def sumy(array):\n",
    "    # Caso base pra voltar o slingshot\n",
    "    if len(array) == 0:\n",
    "        return 0\n",
    "    # Caso recursivo\n",
    "    else:\n",
    "        soma = array.pop() + sumy(array)\n",
    "        return soma\n",
    "        "
   ]
  },
  {
   "cell_type": "code",
   "execution_count": 2,
   "metadata": {},
   "outputs": [
    {
     "data": {
      "text/plain": [
       "612"
      ]
     },
     "execution_count": 2,
     "metadata": {},
     "output_type": "execute_result"
    }
   ],
   "source": [
    "sumy(arr[:])\n"
   ]
  },
  {
   "cell_type": "code",
   "execution_count": 3,
   "metadata": {},
   "outputs": [
    {
     "data": {
      "text/plain": [
       "7"
      ]
     },
     "execution_count": 3,
     "metadata": {},
     "output_type": "execute_result"
    }
   ],
   "source": [
    "def counting(array):\n",
    "    if len(array) == 0:\n",
    "        return 0\n",
    "    array.pop()\n",
    "    items = 1 + counting(array)\n",
    "    return items\n",
    "\n",
    "counting(arr[:])"
   ]
  },
  {
   "cell_type": "code",
   "execution_count": 5,
   "metadata": {},
   "outputs": [
    {
     "data": {
      "text/plain": [
       "453"
      ]
     },
     "execution_count": 5,
     "metadata": {},
     "output_type": "execute_result"
    }
   ],
   "source": [
    "def higher(array):\n",
    "    if len(array) == 1:\n",
    "        return array[0]\n",
    "    else:\n",
    "        actual = array[0]\n",
    "        return actual if actual > higher(array[1:]) else higher(array[1:])\n",
    "        \n",
    "higher(arr[:])"
   ]
  }
 ],
 "metadata": {
  "kernelspec": {
   "display_name": "Python 3",
   "language": "python",
   "name": "python3"
  },
  "language_info": {
   "codemirror_mode": {
    "name": "ipython",
    "version": 3
   },
   "file_extension": ".py",
   "mimetype": "text/x-python",
   "name": "python",
   "nbconvert_exporter": "python",
   "pygments_lexer": "ipython3",
   "version": "3.11.0"
  }
 },
 "nbformat": 4,
 "nbformat_minor": 2
}
